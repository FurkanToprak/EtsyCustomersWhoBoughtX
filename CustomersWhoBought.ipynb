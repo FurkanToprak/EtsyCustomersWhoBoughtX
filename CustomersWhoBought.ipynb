{
 "cells": [
  {
   "cell_type": "code",
   "execution_count": null,
   "source": [
    "from etsy2 import Etsy\n",
    "from etsy2.oauth import EtsyOAuthClient, EtsyOAuthHelper\n",
    "import urllib.parse as urlparse\n",
    "from urllib.parse import parse_qs\n",
    "\n",
    "# These should be stored in a .env file\n",
    "api_key = \"\" # API key for Etsy API\n",
    "shared_secret = \"\" # shared secret for Etsy API\n",
    "etsy_shop_name = \"\" # shop to look at\n",
    "etsy_item = \"\" # item to search for\n",
    "# define permission scopes\n",
    "permission_scopes = ['email_r', 'listings_r', 'transactions_r']\n",
    "\n",
    "login_url, temp_oauth_token_secret = \\\n",
    "    EtsyOAuthHelper.get_request_url_and_token_secret(api_key, shared_secret, permission_scopes)\n",
    "\n",
    "query = urlparse.urlparse(login_url).query\n",
    "temp_oauth_token = parse_qs(query)['oauth_token'][0]\n",
    "\n",
    "print(\"Follow this URL:\", login_url)\n",
    "\n",
    "oauth_token, oauth_token_secret = \\\n",
    "    EtsyOAuthHelper.get_oauth_token_via_verifier(api_key, shared_secret, temp_oauth_token, temp_oauth_token_secret, input('Verifier: '))\n",
    "\n",
    "# OAuth Client\n",
    "etsy_oauth = EtsyOAuthClient(client_key = api_key,\n",
    "                             client_secret = shared_secret,\n",
    "                             resource_owner_key = oauth_token,\n",
    "                             resource_owner_secret = oauth_token_secret)\n",
    "\n",
    "# Etsy Connection\n",
    "etsy = Etsy(etsy_oauth_client = etsy_oauth)"
   ],
   "outputs": [],
   "metadata": {}
  },
  {
   "cell_type": "code",
   "execution_count": 46,
   "source": [
    "shop = etsy.getShop(shop_id=etsy_shop_name)[0]"
   ],
   "outputs": [],
   "metadata": {}
  },
  {
   "cell_type": "code",
   "execution_count": 47,
   "source": [
    "shop_id = shop.get('shop_id')"
   ],
   "outputs": [],
   "metadata": {}
  },
  {
   "cell_type": "code",
   "execution_count": null,
   "source": [
    "relevant_transactions = []\n",
    "num_trans = 0\n",
    "# hard limit to not exceed API rate limits,\n",
    "# we can only paginate with 100 results per API call.\n",
    "for i in range(0, 25000, 100):\n",
    "    transactions = etsy.findAllShopTransactions(shop_id=shop_id, offset=num_trans, limit=100)\n",
    "    for transaction in transactions:\n",
    "        if etsy_item in transaction.get('title'):\n",
    "            relevant_transactions.append(transaction.get('transaction_id'))\n",
    "    num_trans += 100\n",
    "    # print('Transactions scanned:', num_trans)"
   ],
   "outputs": [],
   "metadata": {}
  },
  {
   "cell_type": "code",
   "execution_count": null,
   "source": [
    "print(\"Found\", len(relevant_transactions), \"results.\")\n",
    "# print(relevant_transactions)"
   ],
   "outputs": [],
   "metadata": {}
  },
  {
   "cell_type": "code",
   "execution_count": 51,
   "source": [
    "import time\n",
    "buyerUserIds = []\n",
    "buyerUsers = []\n",
    "buyersNotFound = []\n",
    "numFetches = 0\n",
    "for relevant_transaction in relevant_transactions:\n",
    "    if numFetches % 10 == 0:\n",
    "        time.sleep(1) # API is limited to 10 calls/sec\n",
    "    transactionObj = etsy.getShop_Transaction(transaction_id=relevant_transaction)[0]\n",
    "    buyerUserId = transactionObj['buyer_user_id']\n",
    "    try:\n",
    "        buyerUser = etsy.getUser(user_id=buyerUserId)[0]\n",
    "        buyerUsers.append(buyerUser)\n",
    "    except:\n",
    "        buyersNotFound.append(buyerUserId)\n",
    "        continue\n",
    "    numFetches += 1"
   ],
   "outputs": [],
   "metadata": {}
  },
  {
   "cell_type": "code",
   "execution_count": null,
   "source": [
    "print(buyerUsers)"
   ],
   "outputs": [],
   "metadata": {}
  }
 ],
 "metadata": {
  "orig_nbformat": 4,
  "language_info": {
   "name": "python",
   "version": "3.8.10",
   "mimetype": "text/x-python",
   "codemirror_mode": {
    "name": "ipython",
    "version": 3
   },
   "pygments_lexer": "ipython3",
   "nbconvert_exporter": "python",
   "file_extension": ".py"
  },
  "kernelspec": {
   "name": "python3",
   "display_name": "Python 3.8.10 64-bit"
  },
  "interpreter": {
   "hash": "916dbcbb3f70747c44a77c7bcd40155683ae19c65e1c03b4aa3499c5328201f1"
  }
 },
 "nbformat": 4,
 "nbformat_minor": 2
}